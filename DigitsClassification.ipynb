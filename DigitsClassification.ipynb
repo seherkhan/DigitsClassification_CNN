{
 "cells": [
  {
   "cell_type": "code",
   "execution_count": 18,
   "metadata": {},
   "outputs": [],
   "source": [
    "import tensorflow as tf\n",
    "import numpy as np\n",
    "import matplotlib.pyplot as plt\n",
    "from keras.models import Sequential\n",
    "from keras.layers import Dense, Conv2D, Activation, Dropout, Flatten, MaxPooling2D\n",
    "from keras.models import model_from_json"
   ]
  },
  {
   "cell_type": "markdown",
   "metadata": {},
   "source": [
    "**Load Data**"
   ]
  },
  {
   "cell_type": "code",
   "execution_count": 2,
   "metadata": {},
   "outputs": [],
   "source": [
    "(x_train_raw, y_train_raw), (x_test_raw, y_test) = tf.keras.datasets.mnist.load_data()"
   ]
  },
  {
   "cell_type": "markdown",
   "metadata": {},
   "source": [
    "**Data Processing**  \n",
    "Looking at the data I found that x_train and y_train were np.ndarrays of length 60,000.  \n",
    "x_train's elements were also np.ndarrays of size 28 by 28 (i.e. each element of x_train represented a grayscale 28 by 28 pixel image of a written number).  \n",
    "y_train was one dimensional and contained labels for the images in x_train  \n",
    "\n",
    "Keras requires input data for images to be 4 dimensional so I reshape x_train and x_test such that each element is an ndarray of size 28 by 28 by 1 (i.e. each pixel value is an array of size 1 instead of a number)  "
   ]
  },
  {
   "cell_type": "code",
   "execution_count": 3,
   "metadata": {},
   "outputs": [],
   "source": [
    "x_train_tmp = x_train_raw.reshape(x_train_raw.shape[0], 28, 28, 1)\n",
    "x_test = x_test_raw.reshape(x_test_raw.shape[0], 28, 28, 1)"
   ]
  },
  {
   "cell_type": "markdown",
   "metadata": {},
   "source": [
    "To ensure I tuned hyperparameters without learning the test set, I split the training set into training and validation. I also split y_train accordingly."
   ]
  },
  {
   "cell_type": "code",
   "execution_count": 4,
   "metadata": {},
   "outputs": [
    {
     "name": "stdout",
     "output_type": "stream",
     "text": [
      "x_train.shape = (50000, 28, 28, 1)\n",
      "x_valid.shape = (10000, 28, 28, 1)\n",
      "x_test.shape = (10000, 28, 28, 1)\n",
      "y_train.shape = (50000,)\n",
      "y_valid.shape = (10000,)\n",
      "y_test.shape = (10000,)\n"
     ]
    }
   ],
   "source": [
    "x_train = x_train_tmp[:50000]\n",
    "x_valid = x_train_tmp[50000:]\n",
    "y_train = y_train_raw[:50000]\n",
    "y_valid = y_train_raw[50000:]\n",
    "\n",
    "print('x_train.shape = '+str(x_train.shape))\n",
    "print('x_valid.shape = '+str(x_valid.shape))\n",
    "print('x_test.shape = '+str(x_test.shape))\n",
    "\n",
    "print('y_train.shape = '+str(y_train.shape))\n",
    "print('y_valid.shape = '+str(y_valid.shape))\n",
    "print('y_test.shape = '+str(y_test.shape))"
   ]
  },
  {
   "cell_type": "markdown",
   "metadata": {},
   "source": [
    "Finally, I normalized the data"
   ]
  },
  {
   "cell_type": "code",
   "execution_count": 5,
   "metadata": {},
   "outputs": [],
   "source": [
    "def normalize(arr):\n",
    "    return (arr-np.mean(arr))/np.std(arr)\n",
    "\n",
    "x_train = normalize(x_train)\n",
    "x_valid = normalize(x_valid)\n",
    "x_test = normalize(x_test)\n",
    "\n",
    "# Another way of normalizing:\n",
    "#x_train = x_train / 255.0\n",
    "#x_valid = x_valid / 255.0\n",
    "#x_test = x_test / 255.0"
   ]
  },
  {
   "cell_type": "markdown",
   "metadata": {},
   "source": [
    "**Fitting a CNN model**  \n",
    "I used a sequential model which can be built layer by layer (alternatively, Keras offers functional models which have more flexibility, e.g. any layer can be connected to any other layer, whether or not the layers are consecutive).\n",
    "\n",
    "The usual structure of CNNs is as follows:\n",
    "CONV --> POOL --> CONV --> ... --> FC (one or more) --> SOFTMAX\n",
    "I have used the same structure.\n",
    "\n",
    "Convolution layers \n",
    "* Each convolution layer should be followed by an activation layer (RELU) to add non-linearity to the network\n",
    "* As we increase depth, number of filters should increase\n",
    "* Filter size should be odd to allow for a central pixel\n",
    "* Padding should be used if border information of the image is important (in this case it was reasonable to expect digits to be close to the center the image so I did not use padding)\n",
    "\n",
    "Max pooling layers \n",
    "* Pooling is used to reduce size of representation, speed up computations, and make features more robust with respect to spatial location\n",
    "* Pool size should be low and should decrease over time to ensure dimensions are not decreased too rapidly (since I started with pool size of only 2 by 2, I did not need to decrease it)\n",
    "\n",
    "Dropout layers\n",
    "* Used to avoid overfitting\n",
    "* A dropout layer randomly sets a fraction of the inputs to 0 at each update during training\n",
    "\n",
    "Fully Connected layers\n",
    "* One or more fully connected layers are used to learn the classifier (once feature extraction has been completed by the convolution layers)"
   ]
  },
  {
   "cell_type": "code",
   "execution_count": 6,
   "metadata": {},
   "outputs": [],
   "source": [
    "model = Sequential()\n",
    "\n",
    "model.add(Conv2D(filters=28, kernel_size=(5,5),strides=(1,1), input_shape=x_train.shape[1:]))\n",
    "model.add(Activation('relu'))\n",
    "model.add(MaxPooling2D(pool_size=(2, 2)))\n",
    "model.add(Dropout(0.2))\n",
    "\n",
    "model.add(Conv2D(filters=40, kernel_size=(3, 3)))\n",
    "model.add(Activation('relu'))\n",
    "model.add(MaxPooling2D(pool_size=(2, 2)))\n",
    "model.add(Dropout(0.2))\n",
    "\n",
    "model.add(Flatten()) # flatten to get input for dense layer\n",
    "model.add(Dense(150, activation=tf.nn.relu))\n",
    "model.add(Dropout(0.2))\n",
    "\n",
    "model.add(Dense(10,activation=tf.nn.softmax)) # number of neurons must be same as number of classes"
   ]
  },
  {
   "cell_type": "code",
   "execution_count": 7,
   "metadata": {},
   "outputs": [
    {
     "name": "stdout",
     "output_type": "stream",
     "text": [
      "Epoch 1/10\n",
      "50000/50000 [==============================] - 41s 822us/step - loss: 0.1806 - acc: 0.9415\n",
      "Epoch 2/10\n",
      "50000/50000 [==============================] - 40s 805us/step - loss: 0.0667 - acc: 0.9793\n",
      "Epoch 3/10\n",
      "50000/50000 [==============================] - 42s 839us/step - loss: 0.0513 - acc: 0.9836\n",
      "Epoch 4/10\n",
      "50000/50000 [==============================] - 41s 813us/step - loss: 0.0425 - acc: 0.9863\n",
      "Epoch 5/10\n",
      "50000/50000 [==============================] - 43s 853us/step - loss: 0.0376 - acc: 0.9879\n",
      "Epoch 6/10\n",
      "50000/50000 [==============================] - 40s 801us/step - loss: 0.0326 - acc: 0.99000s - loss: 0.0326 - acc\n",
      "Epoch 7/10\n",
      "50000/50000 [==============================] - 43s 859us/step - loss: 0.0298 - acc: 0.9900\n",
      "Epoch 8/10\n",
      "50000/50000 [==============================] - 43s 853us/step - loss: 0.0269 - acc: 0.9917\n",
      "Epoch 9/10\n",
      "50000/50000 [==============================] - 41s 818us/step - loss: 0.0243 - acc: 0.9924\n",
      "Epoch 10/10\n",
      "50000/50000 [==============================] - 40s 790us/step - loss: 0.0237 - acc: 0.9927\n"
     ]
    },
    {
     "data": {
      "text/plain": [
       "<keras.callbacks.History at 0x7f2ce804afd0>"
      ]
     },
     "execution_count": 7,
     "metadata": {},
     "output_type": "execute_result"
    }
   ],
   "source": [
    "model.compile(optimizer='adam', \n",
    "              loss='sparse_categorical_crossentropy', \n",
    "              metrics=['accuracy'])\n",
    "model.fit(x=x_train,y=y_train, epochs=10)"
   ]
  },
  {
   "cell_type": "markdown",
   "metadata": {},
   "source": [
    "**Model Evaluation**"
   ]
  },
  {
   "cell_type": "markdown",
   "metadata": {},
   "source": [
    "Training accuracy was high at 99.8%  \n",
    "Validation accuracy was also high at 99.3% (and lower than training accuracy as expected)  "
   ]
  },
  {
   "cell_type": "code",
   "execution_count": 14,
   "metadata": {},
   "outputs": [
    {
     "name": "stdout",
     "output_type": "stream",
     "text": [
      "50000/50000 [==============================] - 16s 317us/step\n",
      "[0.006352803620944469, 0.99792]\n",
      "10000/10000 [==============================] - 3s 311us/step\n",
      "[0.02890042385223642, 0.9927]\n"
     ]
    }
   ],
   "source": [
    "print(model.evaluate(x_train, y_train))\n",
    "print(model.evaluate(x_valid, y_valid))"
   ]
  },
  {
   "cell_type": "markdown",
   "metadata": {},
   "source": [
    "To ascertain whether high training and validation accuracies were a result of overfitting or a good model, I finally ran the final model for the test data set.\n",
    "A high accuracy of 99.2% was achieved on the test data"
   ]
  },
  {
   "cell_type": "code",
   "execution_count": 9,
   "metadata": {},
   "outputs": [
    {
     "name": "stdout",
     "output_type": "stream",
     "text": [
      "10000/10000 [==============================] - 3s 311us/step\n"
     ]
    },
    {
     "data": {
      "text/plain": [
       "[0.024913702316703347, 0.9924]"
      ]
     },
     "execution_count": 9,
     "metadata": {},
     "output_type": "execute_result"
    }
   ],
   "source": [
    "model.evaluate(x_test, y_test)"
   ]
  },
  {
   "cell_type": "markdown",
   "metadata": {},
   "source": [
    "**Save Model to Disk**  \n",
    "Models can take a considerable time to train. \n",
    "While this is a significantly fast model to learn I saved this model for demonstration purposes.\n",
    "The structure of the model was saved in a .json file while the weights were saved in a .h5 file"
   ]
  },
  {
   "cell_type": "code",
   "execution_count": 16,
   "metadata": {},
   "outputs": [],
   "source": [
    "# save model structure\n",
    "model_json = model.to_json()\n",
    "with open(\"model_backup.json\", \"w\") as f:\n",
    "    f.write(model_json)\n",
    "\n",
    "# save weights\n",
    "model.save_weights(\"model_backup.h5\")"
   ]
  },
  {
   "cell_type": "markdown",
   "metadata": {},
   "source": [
    "**Load Model from Disk**\n",
    "Uncomment and the following snippet to load a saved model"
   ]
  },
  {
   "cell_type": "code",
   "execution_count": 19,
   "metadata": {},
   "outputs": [
    {
     "name": "stdout",
     "output_type": "stream",
     "text": [
      "10000/10000 [==============================] - 3s 326us/step\n",
      "[0.024913702316703347, 0.9924]\n"
     ]
    }
   ],
   "source": [
    "# load model structure\n",
    "with open('model_backup.json', 'r') as f:\n",
    "    model_json2 = f.read()\n",
    "model2 = model_from_json(model_json2)\n",
    "\n",
    "# load weights\n",
    "model2.load_weights(\"model_backup.h5\")\n",
    " \n",
    "# compile loaded model\n",
    "model2.compile(optimizer='adam', \n",
    "              loss='sparse_categorical_crossentropy', \n",
    "              metrics=['accuracy'])\n",
    "\n",
    "# evaluate on test data\n",
    "print (model2.evaluate(x_test, y_test))"
   ]
  },
  {
   "cell_type": "markdown",
   "metadata": {},
   "source": [
    "**Demo**  \n",
    "The following function can be used to identify digits from the dataset using the final model"
   ]
  },
  {
   "cell_type": "code",
   "execution_count": 12,
   "metadata": {},
   "outputs": [],
   "source": [
    "def classify(i,from_test):\n",
    "    if from_test:\n",
    "        plt.imshow(x_test_raw[i], cmap='Greys')\n",
    "        print('True Label:',y_test[i])\n",
    "        pred = model.predict(x_test[i].reshape(1, 28, 28, 1))\n",
    "        print('Predicted Label:',np.argmax(pred))\n",
    "    else:\n",
    "        plt.imshow(x_train_raw[i], cmap='Greys')\n",
    "        print('True Label:',y_train[i])\n",
    "        pred = model.predict(x_train[i].reshape(1, 28, 28, 1))\n",
    "        print('Predicted Label:',np.argmax(pred))"
   ]
  },
  {
   "cell_type": "code",
   "execution_count": 13,
   "metadata": {},
   "outputs": [
    {
     "name": "stdout",
     "output_type": "stream",
     "text": [
      "('True Label:', 7)\n",
      "('Predicted Label:', 7)\n"
     ]
    },
    {
     "data": {
      "image/png": "[encoded data removed]",
      "text/plain": [
       "<Figure size 432x288 with 1 Axes>"
      ]
     },
     "metadata": {
      "needs_background": "light"
     },
     "output_type": "display_data"
    }
   ],
   "source": [
    "i=60\n",
    "classify(i,True)"
   ]
  },
  {
   "cell_type": "markdown",
   "metadata": {},
   "source": [
    "***References:***\n",
    "* https://towardsdatascience.com/image-classification-in-10-minutes-with-mnist-dataset-54c35b77a38d\n",
    "* https://machinelearningmastery.com/save-load-keras-deep-learning-models/"
   ]
  }
 ],
 "metadata": {
  "kernelspec": {
   "display_name": "Python 3",
   "language": "python",
   "name": "python3"
  },
  "language_info": {
   "codemirror_mode": {
    "name": "ipython",
    "version": 2
   },
   "file_extension": ".py",
   "mimetype": "text/x-python",
   "name": "python",
   "nbconvert_exporter": "python",
   "pygments_lexer": "ipython2",
   "version": "2.7.15rc1"
  }
 },
 "nbformat": 4,
 "nbformat_minor": 2
}
